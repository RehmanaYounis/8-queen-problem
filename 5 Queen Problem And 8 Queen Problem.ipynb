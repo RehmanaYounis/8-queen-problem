{
  "nbformat": 4,
  "nbformat_minor": 0,
  "metadata": {
    "colab": {
      "name": "5-QueenProblem.ipynb",
      "provenance": [],
      "collapsed_sections": []
    },
    "kernelspec": {
      "name": "python3",
      "display_name": "Python 3"
    },
    "language_info": {
      "name": "python"
    }
  },
  "cells": [
    {
      "cell_type": "code",
      "metadata": {
        "id": "VeN7ZH0J1oci"
      },
      "source": [
        "import numpy as np\n"
      ],
      "execution_count": null,
      "outputs": []
    },
    {
      "cell_type": "code",
      "metadata": {
        "id": "wz5sSge3OReJ"
      },
      "source": [
        "\n",
        "def cal_heuristic(matrix, Queens):\n",
        "  pair=[]\n",
        "  attack_count = 0\n",
        "  for Queen in Queens:\n",
        "    ind_i=Queen[0]\n",
        "    ind_j = Queen[1]\n",
        "    rowz=5\n",
        "    \n",
        "  #  print(ind_i, ind_j)\n",
        "\n",
        "    for i in range (1, 5):\n",
        "      if (ind_i -i>=0 and ind_j +i <=4):\n",
        "        dig1=[ind_i -i, ind_j +i]\n",
        "        if matrix[dig1[0]][dig1[1]]==1:\n",
        "          attack_count+=1\n",
        "          pair.append(sorted([ind_j, ind_j +i]))\n",
        "          # print('dig side 1:', dig1)\n",
        "\n",
        "      if (ind_i +i<=4 and ind_j -i >=0): \n",
        "        dig2=[ind_i +i, ind_j - i]\n",
        "        if matrix[dig2[0]][dig2[1]]==1:\n",
        "          attack_count+=1\n",
        "          pair.append(sorted([ind_j, ind_j - i]))\n",
        "#          print('dig side 2:',ind_j, ind_j - i)\n",
        "      \n",
        "      if (ind_i-i >=0 and ind_j-i>=0):\n",
        "        dig3=[ind_i-i, ind_j-i]\n",
        "        if matrix[dig3[0]][dig3[1]]==1:\n",
        "          attack_count+=1\n",
        "          pair.append(sorted([ind_j, ind_j-i]))\n",
        "#          print('dig side 3:',dig3)\n",
        "\n",
        "      if (ind_i+i <=4 and ind_j+i<=4):\n",
        "        dig4=[ind_i+i, ind_j+i]\n",
        "        if matrix[dig4[0]][dig4[1]]==1:\n",
        "          attack_count+=1\n",
        "          pair.append(sorted([ind_j, ind_j+i]))\n",
        "    #      print('dig side 4:',dig4)\n",
        "\n",
        "      if(ind_j+i<=4):\n",
        "        row_wise1= [ind_i, ind_j+i]\n",
        "        if matrix[row_wise1[0]][row_wise1[1]]==1:\n",
        "          attack_count+=1\n",
        "          pair.append(sorted([ind_j, row_wise1[1]]))\n",
        "  #        print('row fw',row_wise1)\n",
        "      if(ind_j-i>=0):\n",
        "        row_wise2= [ind_i, ind_j-i]\n",
        "        if matrix[row_wise2[0]][row_wise2[1]]==1:\n",
        "          attack_count+=1\n",
        "#          print(sorted([ind_j, row_wise2[1]]))\n",
        "          pair.append(sorted([ind_j, row_wise2[1]]))\n",
        "    #      print('row bw',row_wise2)\n",
        "\n",
        "  y= np.array(pair) \n",
        "\n",
        "  unique_data = [list(x) for x in set(tuple(x) for x in y)]\n",
        "  attack_count=(len(unique_data))\n",
        " # print(unique_data)\n",
        "  return attack_count\n"
      ],
      "execution_count": null,
      "outputs": []
    },
    {
      "cell_type": "code",
      "metadata": {
        "colab": {
          "base_uri": "https://localhost:8080/"
        },
        "id": "Zq8TVKIf17rD",
        "outputId": "66417d4a-37c9-4bc5-b52a-8d3067675fe0"
      },
      "source": [
        "matrix= np.zeros((5,5), dtype=int)\n",
        "matrix[0][0]=1\n",
        "matrix[1][1]=1\n",
        "matrix[1][2]=1\n",
        "matrix[3][3]=1\n",
        "matrix[3][4]=1\n",
        "print(matrix)\n",
        "\n",
        "# matrix= np.zeros((5,5), dtype=int)\n",
        "# matrix[2][0]=1\n",
        "# matrix[4][1]=1\n",
        "# matrix[1][2]=1\n",
        "# matrix[3][3]=1\n",
        "# matrix[3][4]=1\n",
        "# print(matrix)\n",
        "\n",
        "Goal=matrix.copy()\n",
        "Queens=np.transpose(np.nonzero(matrix))\n",
        "cal_heuristic(matrix, Queens)"
      ],
      "execution_count": null,
      "outputs": [
        {
          "output_type": "stream",
          "name": "stdout",
          "text": [
            "[[1 0 0 0 0]\n",
            " [0 1 1 0 0]\n",
            " [0 0 0 0 0]\n",
            " [0 0 0 1 1]\n",
            " [0 0 0 0 0]]\n"
          ]
        },
        {
          "output_type": "execute_result",
          "data": {
            "text/plain": [
              "6"
            ]
          },
          "metadata": {},
          "execution_count": 11
        }
      ]
    },
    {
      "cell_type": "markdown",
      "metadata": {
        "id": "PQgZj_yxNlgT"
      },
      "source": [
        "\n",
        "\n"
      ]
    },
    {
      "cell_type": "code",
      "metadata": {
        "colab": {
          "base_uri": "https://localhost:8080/"
        },
        "id": "oo2_oBHqmD1w",
        "outputId": "5cc9b3f1-5bde-4903-8aab-e3c9572736d2"
      },
      "source": [
        "\n",
        "def EightQueen(matrix):\n",
        "  Goal=matrix.copy()\n",
        "  Queen=np.transpose(np.nonzero(matrix))\n",
        "\n",
        "  best_heuristic = cal_heuristic(matrix, Queens)\n",
        "  print('Initial Heuristic', best_heuristic)\n",
        "  count=0\n",
        "\n",
        "  for Q in range(5):\n",
        "    Queen=np.transpose(np.nonzero(matrix))\n",
        "    heuristic = cal_heuristic(matrix, Queen)\n",
        "    #print(Queen)\n",
        "    i = Queen[Q][0]\n",
        "    j= Queen[Q][1]\n",
        "    # matrix[]\n",
        "    # print(i)\n",
        "    \n",
        "    for col in range(5):\n",
        "  #   print(col)\n",
        "      \n",
        "      new_matrix= matrix.copy()\n",
        "      new_matrix[i][j]=0\n",
        "      if col != i:\n",
        "        count+=1\n",
        "        new_matrix[col][j]=1\n",
        "        Queen_new=np.transpose(np.nonzero(new_matrix))\n",
        "        heuristic1 = cal_heuristic(new_matrix, Queen_new)\n",
        "        if heuristic1 < best_heuristic: \n",
        " #           print('Compare ',best_heuristic, heuristic1)\n",
        "          best_heuristic=heuristic1\n",
        "          best_matrix= new_matrix\n",
        "      # print(new_matrix)\n",
        "        #print('h value',heuristic1)\n",
        "    new_matrix= matrix.copy()\n",
        "  print('Final Heuristic Value :, ', best_heuristic)\n",
        "  if best_heuristic == 0:\n",
        "    print('The Goal Matrix is : ')\n",
        "#    print(best_matrix)\n",
        "    return (best_matrix)\n",
        "  else:\n",
        "    EightQueen(best_matrix)\n",
        "\n",
        "EightQueen(matrix)\n",
        "\n",
        "  #print(heuristic)"
      ],
      "execution_count": null,
      "outputs": [
        {
          "output_type": "stream",
          "name": "stdout",
          "text": [
            "Initial Heuristic 6\n",
            "Final Heuristic Value :,  3\n",
            "Initial Heuristic 6\n",
            "Final Heuristic Value :,  2\n",
            "Initial Heuristic 6\n",
            "Final Heuristic Value :,  0\n",
            "The Goal Matrix is : \n"
          ]
        }
      ]
    },
    {
      "cell_type": "markdown",
      "metadata": {
        "id": "m98uR2rrcE8S"
      },
      "source": [
        ""
      ]
    }
  ]
}